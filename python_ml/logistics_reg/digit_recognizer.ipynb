{
 "cells": [
  {
   "cell_type": "code",
   "execution_count": 2,
   "id": "000cd605",
   "metadata": {},
   "outputs": [],
   "source": [
    "import matplotlib.pyplot as plt\n",
    "from sklearn.datasets import load_digits"
   ]
  },
  {
   "cell_type": "code",
   "execution_count": 3,
   "id": "99332beb",
   "metadata": {},
   "outputs": [
    {
     "data": {
      "text/plain": [
       "array([ 0.,  0.,  5., 13.,  9.,  1.,  0.,  0.,  0.,  0., 13., 15., 10.,\n",
       "       15.,  5.,  0.,  0.,  3., 15.,  2.,  0., 11.,  8.,  0.,  0.,  4.,\n",
       "       12.,  0.,  0.,  8.,  8.,  0.,  0.,  5.,  8.,  0.,  0.,  9.,  8.,\n",
       "        0.,  0.,  4., 11.,  0.,  1., 12.,  7.,  0.,  0.,  2., 14.,  5.,\n",
       "       10., 12.,  0.,  0.,  0.,  0.,  6., 13., 10.,  0.,  0.,  0.])"
      ]
     },
     "execution_count": 3,
     "metadata": {},
     "output_type": "execute_result"
    }
   ],
   "source": [
    "digits = load_digits()\n",
    "digits.data[0]"
   ]
  },
  {
   "cell_type": "code",
   "execution_count": 4,
   "id": "fa41f8f9",
   "metadata": {},
   "outputs": [
    {
     "data": {
      "text/plain": [
       "<matplotlib.image.AxesImage at 0x1e36e573790>"
      ]
     },
     "execution_count": 4,
     "metadata": {},
     "output_type": "execute_result"
    },
    {
     "data": {
      "text/plain": [
       "<Figure size 432x288 with 0 Axes>"
      ]
     },
     "metadata": {},
     "output_type": "display_data"
    },
    {
     "data": {
      "image/png": "[encoded data removed]",
      "text/plain": [
       "<Figure size 288x288 with 1 Axes>"
      ]
     },
     "metadata": {
      "needs_background": "light"
     },
     "output_type": "display_data"
    }
   ],
   "source": [
    "plt.gray()\n",
    "plt.matshow(digits.images[0])"
   ]
  },
  {
   "cell_type": "code",
   "execution_count": 17,
   "id": "cf02ee9d",
   "metadata": {},
   "outputs": [],
   "source": [
    "from sklearn.model_selection import train_test_split\n",
    "X_train, X_test,y_train , y_test = train_test_split(digits.data,digits.target,train_size=0.8,test_size=0.2) "
   ]
  },
  {
   "cell_type": "code",
   "execution_count": 18,
   "id": "745d70d8",
   "metadata": {},
   "outputs": [],
   "source": [
    "from sklearn.linear_model import LogisticRegression\n",
    "model = LogisticRegression()\n"
   ]
  },
  {
   "cell_type": "code",
   "execution_count": 19,
   "id": "9729e4c5",
   "metadata": {
    "scrolled": true
   },
   "outputs": [
    {
     "name": "stderr",
     "output_type": "stream",
     "text": [
      "C:\\Users\\bhuta\\anaconda3\\lib\\site-packages\\sklearn\\linear_model\\_logistic.py:814: ConvergenceWarning: lbfgs failed to converge (status=1):\n",
      "STOP: TOTAL NO. of ITERATIONS REACHED LIMIT.\n",
      "\n",
      "Increase the number of iterations (max_iter) or scale the data as shown in:\n",
      "    https://scikit-learn.org/stable/modules/preprocessing.html\n",
      "Please also refer to the documentation for alternative solver options:\n",
      "    https://scikit-learn.org/stable/modules/linear_model.html#logistic-regression\n",
      "  n_iter_i = _check_optimize_result(\n"
     ]
    },
    {
     "data": {
      "text/plain": [
       "LogisticRegression()"
      ]
     },
     "execution_count": 19,
     "metadata": {},
     "output_type": "execute_result"
    }
   ],
   "source": [
    "model.fit(X_train,y_train)"
   ]
  },
  {
   "cell_type": "code",
   "execution_count": 20,
   "id": "7a386ec5",
   "metadata": {
    "scrolled": true
   },
   "outputs": [
    {
     "data": {
      "text/plain": [
       "0.9611111111111111"
      ]
     },
     "execution_count": 20,
     "metadata": {},
     "output_type": "execute_result"
    }
   ],
   "source": [
    "model.score(X_test,y_test)"
   ]
  },
  {
   "cell_type": "code",
   "execution_count": 21,
   "id": "18b41919",
   "metadata": {},
   "outputs": [
    {
     "data": {
      "text/plain": [
       "<matplotlib.image.AxesImage at 0x1e36e5ec910>"
      ]
     },
     "execution_count": 21,
     "metadata": {},
     "output_type": "execute_result"
    },
    {
     "data": {
      "image/png": "[encoded data removed]",
      "text/plain": [
       "<Figure size 288x288 with 1 Axes>"
      ]
     },
     "metadata": {
      "needs_background": "light"
     },
     "output_type": "display_data"
    }
   ],
   "source": [
    "plt.matshow(digits.images[67])\n"
   ]
  },
  {
   "cell_type": "code",
   "execution_count": 22,
   "id": "d7a4a3fa",
   "metadata": {},
   "outputs": [
    {
     "data": {
      "text/plain": [
       "6"
      ]
     },
     "execution_count": 22,
     "metadata": {},
     "output_type": "execute_result"
    }
   ],
   "source": [
    "digits.target[67]"
   ]
  },
  {
   "cell_type": "code",
   "execution_count": 25,
   "id": "a67bb0e0",
   "metadata": {},
   "outputs": [
    {
     "data": {
      "text/plain": [
       "array([6])"
      ]
     },
     "execution_count": 25,
     "metadata": {},
     "output_type": "execute_result"
    }
   ],
   "source": [
    "model.predict([digits.data[67]])"
   ]
  },
  {
   "cell_type": "code",
   "execution_count": 26,
   "id": "0731beb6",
   "metadata": {},
   "outputs": [
    {
     "data": {
      "text/plain": [
       "array([6, 8, 2, 8, 6, 0, 8, 7, 6, 8, 4, 7, 0, 4, 6, 5, 5, 3, 7, 3, 2, 6,\n",
       "       7, 4, 5, 2, 4, 4, 1, 7, 2, 2, 9, 0, 6, 0, 5, 1, 5, 9, 5, 2, 4, 8,\n",
       "       9, 4, 1, 6, 4, 6, 5, 6, 1, 8, 9, 8, 3, 0, 6, 1, 0, 3, 7, 3, 8, 2,\n",
       "       1, 7, 1, 4, 8, 3, 0, 9, 6, 0, 8, 0, 0, 8, 6, 1, 1, 4, 8, 4, 4, 1,\n",
       "       6, 6, 2, 5, 5, 8, 1, 8, 5, 9, 1, 6, 2, 7, 9, 6, 4, 8, 6, 9, 2, 9,\n",
       "       5, 7, 3, 1, 0, 0, 4, 5, 0, 9, 6, 2, 7, 8, 6, 9, 9, 1, 8, 7, 6, 4,\n",
       "       7, 2, 9, 1, 5, 2, 3, 7, 1, 1, 5, 2, 7, 2, 2, 4, 8, 2, 0, 5, 5, 9,\n",
       "       3, 8, 2, 0, 8, 5, 3, 9, 0, 8, 0, 4, 6, 4, 4, 8, 9, 1, 3, 1, 2, 9,\n",
       "       5, 1, 0, 5, 3, 4, 9, 5, 1, 4, 4, 9, 1, 1, 6, 5, 1, 9, 6, 1, 7, 1,\n",
       "       4, 2, 1, 5, 5, 2, 9, 9, 4, 7, 0, 5, 5, 7, 4, 5, 7, 3, 3, 6, 3, 4,\n",
       "       3, 1, 3, 3, 8, 9, 6, 4, 8, 2, 8, 6, 5, 5, 8, 4, 1, 3, 7, 8, 1, 1,\n",
       "       7, 3, 6, 9, 9, 3, 1, 8, 2, 6, 2, 2, 6, 6, 8, 8, 8, 9, 8, 1, 5, 7,\n",
       "       9, 6, 8, 2, 0, 1, 4, 8, 6, 0, 2, 4, 3, 9, 5, 6, 4, 8, 2, 6, 8, 9,\n",
       "       0, 3, 3, 3, 0, 9, 3, 9, 7, 2, 0, 6, 7, 9, 6, 3, 5, 4, 9, 1, 4, 6,\n",
       "       9, 4, 3, 3, 6, 1, 2, 5, 6, 5, 0, 5, 6, 8, 2, 9, 3, 9, 3, 9, 4, 9,\n",
       "       1, 6, 2, 3, 5, 5, 3, 2, 9, 7, 5, 1, 3, 2, 3, 9, 1, 5, 4, 0, 1, 2,\n",
       "       1, 7, 2, 1, 7, 4, 9, 1])"
      ]
     },
     "execution_count": 26,
     "metadata": {},
     "output_type": "execute_result"
    }
   ],
   "source": [
    "model.predict(x_test)"
   ]
  },
  {
   "cell_type": "code",
   "execution_count": 28,
   "id": "7d69a32b",
   "metadata": {},
   "outputs": [],
   "source": [
    "y_predicted = model.predict(X_test)\n",
    "from sklearn.metrics import confusion_matrix\n",
    "cn = confusion_matrix(y_test,y_predicted)"
   ]
  },
  {
   "cell_type": "code",
   "execution_count": 30,
   "id": "82aa910b",
   "metadata": {},
   "outputs": [
    {
     "data": {
      "text/plain": [
       "Text(69.0, 0.5, 'Truth')"
      ]
     },
     "execution_count": 30,
     "metadata": {},
     "output_type": "execute_result"
    },
    {
     "data": {
      "image/png": "[encoded data removed]",
      "text/plain": [
       "<Figure size 720x504 with 2 Axes>"
      ]
     },
     "metadata": {
      "needs_background": "light"
     },
     "output_type": "display_data"
    }
   ],
   "source": [
    "import seaborn as sns\n",
    "plt.figure(figsize=(10,7))\n",
    "sns.heatmap(cn,annot=True)\n",
    "plt.xlabel(\"Predicted\")\n",
    "plt.ylabel(\"Truth\")"
   ]
  },
  {
   "cell_type": "code",
   "execution_count": null,
   "id": "ad56f98b",
   "metadata": {},
   "outputs": [],
   "source": []
  }
 ],
 "metadata": {
  "kernelspec": {
   "display_name": "Python 3 (ipykernel)",
   "language": "python",
   "name": "python3"
  },
  "language_info": {
   "codemirror_mode": {
    "name": "ipython",
    "version": 3
   },
   "file_extension": ".py",
   "mimetype": "text/x-python",
   "name": "python",
   "nbconvert_exporter": "python",
   "pygments_lexer": "ipython3",
   "version": "3.9.12"
  }
 },
 "nbformat": 4,
 "nbformat_minor": 5
}
